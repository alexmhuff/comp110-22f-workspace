{
 "cells": [
  {
   "cell_type": "code",
   "execution_count": 2,
   "metadata": {},
   "outputs": [
    {
     "name": "stdout",
     "output_type": "stream",
     "text": [
      "9.5\n"
     ]
    }
   ],
   "source": [
    "class Pizza: # inventing the class (type) Pizza, first letter being a capital is hint that it's a class\n",
    "    \"\"\"Models the idea of a Pizza.\"\"\"\n",
    "\n",
    "    # Attribute Definitions\n",
    "    size: str\n",
    "    toppings: int\n",
    "    extra_cheese: bool\n",
    "\n",
    "\n",
    "    def price(self) -> float:\n",
    "        \"\"\"Calculate the price of a Pizza.\"\"\"\n",
    "        total: float = 0.0\n",
    "        if self.size == \"large\":\n",
    "            total += 10.0\n",
    "        else:\n",
    "            total += 8.0\n",
    "        \n",
    "        total += self.toppings * 0.75\n",
    "\n",
    "        if self.extra_cheese:\n",
    "            total += 1.0\n",
    "\n",
    "        return total\n",
    "\n",
    "p0: Pizza = Pizza()\n",
    "p0.size = \"large\"\n",
    "p0.toppings = 3\n",
    "p0.extra_cheese = True\n",
    "p1: Pizza = Pizza()\n",
    "p1.size = \"small\"\n",
    "p1.toppings = 2\n",
    "p1.extra_cheese = False\n",
    "print (p1.price())"
   ]
  }
 ],
 "metadata": {
  "kernelspec": {
   "display_name": "Python 3.10.6 64-bit",
   "language": "python",
   "name": "python3"
  },
  "language_info": {
   "codemirror_mode": {
    "name": "ipython",
    "version": 3
   },
   "file_extension": ".py",
   "mimetype": "text/x-python",
   "name": "python",
   "nbconvert_exporter": "python",
   "pygments_lexer": "ipython3",
   "version": "3.10.6"
  },
  "orig_nbformat": 4,
  "vscode": {
   "interpreter": {
    "hash": "aee8b7b246df8f9039afb4144a1f6fd8d2ca17a180786b69acc140d282b71a49"
   }
  }
 },
 "nbformat": 4,
 "nbformat_minor": 2
}
